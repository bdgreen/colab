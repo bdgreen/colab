{
  "nbformat": 4,
  "nbformat_minor": 0,
  "metadata": {
    "colab": {
      "name": "Multistyle Pastiche Study Notes.ipynb",
      "version": "0.3.2",
      "provenance": [],
      "include_colab_link": true
    },
    "kernelspec": {
      "name": "python3",
      "display_name": "Python 3"
    }
  },
  "cells": [
    {
      "cell_type": "markdown",
      "metadata": {
        "id": "view-in-github",
        "colab_type": "text"
      },
      "source": [
        "[View in Colaboratory](https://colab.research.google.com/github/bdgreen/colab/blob/master/pastiche/Multistyle_Pastiche_Study_Notes.ipynb)"
      ]
    },
    {
      "metadata": {
        "id": "j8NEW9c6_y50",
        "colab_type": "text"
      },
      "cell_type": "markdown",
      "source": [
        "# New Section\n",
        "\n",
        "Starter [Google AI Blog](https://ai.googleblog.com/2016/10/supercharging-style-transfer.html)\n",
        "\n",
        "Redirects to the [Magenta blog](https://magenta.tensorflow.org/2016/11/01/multistyle-pastiche-generator/)\n",
        "\n",
        "**Running the code**\n",
        "Running the code can be done easily using the Magenta Pip package. Directions for this are located on the [GitHub site](https://github.com/tensorflow/magenta/tree/master/magenta/models/image_stylization)."
      ]
    },
    {
      "metadata": {
        "id": "qCOh9hC7_imi",
        "colab_type": "code",
        "colab": {}
      },
      "cell_type": "code",
      "source": [
        ""
      ],
      "execution_count": 0,
      "outputs": []
    },
    {
      "metadata": {
        "id": "uVEx8dYK_xb-",
        "colab_type": "text"
      },
      "cell_type": "markdown",
      "source": [
        ""
      ]
    }
  ]
}